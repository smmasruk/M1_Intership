{
 "cells": [
  {
   "cell_type": "code",
   "execution_count": 1,
   "metadata": {
    "vscode": {
     "languageId": "python"
    }
   },
   "outputs": [],
   "source": [
    "from kerrgeodesic_gw import (KerrBH, h_plus_particle, h_cross_particle, \n",
    "                             h_amplitude_particle_fourier, plot_spectrum_particle, \n",
    "                             plot_h_particle)\n",
    "# from lisa_detector import  (strain_sensitivity, power_spectral_density)"
   ]
  },
  {
   "cell_type": "code",
   "execution_count": 5,
   "metadata": {
    "vscode": {
     "languageId": "python"
    }
   },
   "outputs": [
    {
     "data": {
      "text/plain": [
       "1.8082609253700212e-19"
      ]
     },
     "execution_count": 5,
     "metadata": {},
     "output_type": "execute_result"
    }
   ],
   "source": [
    "from kerrgeodesic_gw import (KerrBH, h_plus_particle, h_cross_particle, lisa_detector)\n",
    "from kerrgeodesic_gw.lisa_detector import (strain_sensitivity, power_spectral_density)\n"
   ]
  },
  {
   "cell_type": "code",
   "execution_count": 3,
   "metadata": {
    "vscode": {
     "languageId": "python"
    }
   },
   "outputs": [],
   "source": [
    "%display latex"
   ]
  },
  {
   "cell_type": "code",
   "execution_count": 7,
   "metadata": {
    "vscode": {
     "languageId": "python"
    }
   },
   "outputs": [
    {
     "name": "stdout",
     "output_type": "stream",
     "text": [
      "Schwarzschild radius (r_s): 1.23e+10 m\n",
      "Semi-major axis (a): 1.23e+11 m\n",
      "Orbital period (T): 9.75e+03 s\n"
     ]
    }
   ],
   "source": [
    "import numpy as np\n",
    "\n",
    "# Constants\n",
    "G = 6.674e-11  # Gravitational constant (m^3 kg^-1 s^-2)\n",
    "c = 299792458  # Speed of light (m/s)\n",
    "\n",
    "# Black hole parameters\n",
    "M_black_hole = 4.15e6 * 1.989e30  # Mass of the black hole in kg (10 solar masses)\n",
    "\n",
    "# Orbital parameter\n",
    "e = 0  # Eccentricity\n",
    "l = 10  # Initial semilatus rectum (in units of Schwarzschild radii)\n",
    "\n",
    "# Calculate Schwarzschild radius\n",
    "r_s = 2 * G * M_black_hole / c**2\n",
    "\n",
    "# Calculate semi-major axis\n",
    "a = l * r_s / (1 - e**2)\n",
    "\n",
    "# Calculate orbital period\n",
    "T = np.sqrt((4 * np.pi**2 / (G * M_black_hole)) * (a**3 - 3 * r_s * a**2 + 2 * r_s**2 * a))\n",
    "\n",
    "# Print results\n",
    "print(f\"Schwarzschild radius (r_s): {r_s:.2e} m\")\n",
    "print(f\"Semi-major axis (a): {a:.2e} m\")\n",
    "print(f\"Orbital period (T): {T:.2e} s\")"
   ]
  },
  {
   "cell_type": "code",
   "execution_count": 19,
   "metadata": {
    "vscode": {
     "languageId": "python"
    }
   },
   "outputs": [],
   "source": [
    "import numpy as np\n",
    "\n",
    "# Define constants\n",
    "speed_of_light = 299792458  # Speed of light in meters per second (m/s)\n",
    "gravitational_constant = 6.67430e-11  # Gravitational constant in m^3 kg^-1 s^-2\n",
    "\n",
    "def calculate_semimajor_axis(eccentricity, semilatus_rectum):\n",
    "    \"\"\"\n",
    "    Calculate the semi-major axis from eccentricity and initial semilatus rectum.\n",
    "\n",
    "    Args:\n",
    "    eccentricity (float): Eccentricity of the orbit.\n",
    "    semilatus_rectum (float): Initial semilatus rectum of the orbit.\n",
    "\n",
    "    Returns:\n",
    "    float: Semi-major axis of the orbit.\n",
    "    \"\"\"\n",
    "    return semilatus_rectum / (1 - eccentricity ** 2)\n",
    "\n",
    "def calculate_orbital_period(semi_major_axis, black_hole_mass):\n",
    "    \"\"\"\n",
    "    Calculate the orbital period using the semi-major axis and black hole mass.\n",
    "\n",
    "    Args:\n",
    "    semi_major_axis (float): Semi-major axis of the orbit.\n",
    "    black_hole_mass (float): Mass of the black hole.\n",
    "\n",
    "    Returns:\n",
    "    float: Orbital period of the object.\n",
    "    \"\"\"\n",
    "    rs = 2 * gravitational_constant * black_hole_mass / speed_of_light ** 2\n",
    "    return 2 * np.pi * np.sqrt(2 * semi_major_axis ** 3 / (gravitational_constant * rs)) * (1 + 3 * rs / (2 * semi_major_axis))\n"
   ]
  },
  {
   "cell_type": "code",
   "execution_count": 20,
   "metadata": {
    "vscode": {
     "languageId": "python"
    }
   },
   "outputs": [
    {
     "data": {
      "text/html": [
       "<html>\\(\\displaystyle 1117820276.1384957\\)</html>"
      ],
      "text/latex": [
       "$\\displaystyle 1117820276.1384957$"
      ],
      "text/plain": [
       "1117820276.1384957"
      ]
     },
     "execution_count": 20,
     "metadata": {},
     "output_type": "execute_result"
    }
   ],
   "source": [
    "a=calculate_semimajor_axis(0,38.133)\n",
    "calculate_orbital_period(a,4.15 * 1.989e30)"
   ]
  },
  {
   "cell_type": "code",
   "execution_count": 38,
   "metadata": {
    "vscode": {
     "languageId": "python"
    }
   },
   "outputs": [
    {
     "name": "stdout",
     "output_type": "stream",
     "text": [
      "Semi-major axis (a) = 14514.0000000000 m\n",
      "Orbital period (T) = 1.2741773954724037e+25 s\n"
     ]
    }
   ],
   "source": [
    "import numpy as np\n",
    "\n",
    "# Define constants\n",
    "speed_of_light = 299792458  # Speed of light in meters per second (m/s)\n",
    "gravitational_constant = 6.67430e-11  # Gravitational constant in m^3 kg^-1 s^-2\n",
    "\n",
    "def calculate_semimajor_axis(eccentricity, semilatus_rectum):\n",
    "    \"\"\"\n",
    "    Calculate the semi-major axis from eccentricity and initial semilatus rectum.\n",
    "\n",
    "    Args:\n",
    "    eccentricity (float): Eccentricity of the orbit.\n",
    "    semilatus_rectum (float): Initial semilatus rectum of the orbit (in meters).\n",
    "\n",
    "    Returns:\n",
    "    float: Semi-major axis of the orbit (in meters).\n",
    "    \"\"\"\n",
    "    return semilatus_rectum / (1 - eccentricity ** 2)\n",
    "\n",
    "def calculate_orbital_period(semi_major_axis, black_hole_mass):\n",
    "    \"\"\"\n",
    "    Calculate the orbital period using the semi-major axis and black hole mass.\n",
    "\n",
    "    Args:\n",
    "    semi_major_axis (float): Semi-major axis of the orbit (in meters).\n",
    "    black_hole_mass (float): Mass of the black hole (in kilograms).\n",
    "\n",
    "    Returns:\n",
    "    float: Orbital period of the object (in seconds).\n",
    "    \"\"\"\n",
    "    rs = 2 * gravitational_constant * black_hole_mass / speed_of_light ** 2\n",
    "    return 2 * np.pi * np.sqrt(2 * semi_major_axis ** 3 / (gravitational_constant * rs)) * (1 + 3 * rs / (2 * semi_major_axis))\n",
    "\n",
    "# Calculate semi-major axis for p0 = 6M\n",
    "eccentricity = 0.5  # Example eccentricity\n",
    "semilatus_rectum = 6.15*1.77*1000  # Example initial semilatus rectum in meters\n",
    "semi_major_axis = calculate_semimajor_axis(eccentricity, semilatus_rectum)\n",
    "print(\"Semi-major axis (a) =\", semi_major_axis, \"m\")\n",
    "\n",
    "# Calculate orbital period for p0 = 6M\n",
    "black_hole_mass = 15  # Example mass of the black hole (1 million solar masses)\n",
    "orbital_period = calculate_orbital_period(semi_major_axis, black_hole_mass)\n",
    "print(\"Orbital period (T) =\", orbital_period, \"s\")\n"
   ]
  },
  {
   "cell_type": "code",
   "execution_count": 39,
   "metadata": {
    "vscode": {
     "languageId": "python"
    }
   },
   "outputs": [
    {
     "name": "stdout",
     "output_type": "stream",
     "text": [
      "Schwarzschild radius (r_s): 1.18e+10 m\n",
      "Semi-major axis (a): 7.09e+10 m\n",
      "Orbital period (T): 3.64e+03 s\n"
     ]
    }
   ],
   "source": [
    "import numpy as np\n",
    "\n",
    "# Constants\n",
    "G = 6.674e-11  # Gravitational constant (m^3 kg^-1 s^-2)\n",
    "c = 299792458  # Speed of light (m/s)\n",
    "r_s = 2 * G * M_black_hole / c**2  # meters\n",
    "\n",
    "# Black hole parameters\n",
    "M_black_hole = 4e6 * 1.989e30  # Mass of the black hole in kg (10 solar masses)\n",
    "\n",
    "# Orbital parameters\n",
    "e = 0  # Eccentricity (dimensionless)\n",
    "l = 6 * r_s  # Initial semilatus rectum (in meters)\n",
    "\n",
    "# Calculate Schwarzschild radius\n",
    "\n",
    "# Calculate semi-major axis\n",
    "a = l / (1 - e**2)  # meters\n",
    "\n",
    "# Calculate orbital period\n",
    "T = np.sqrt((4 * np.pi**2 / (G * M_black_hole)) * (a**3 - 3 * r_s * a**2 ))  # seconds\n",
    "\n",
    "# Print results\n",
    "print(f\"Schwarzschild radius (r_s): {r_s:.2e} m\")\n",
    "print(f\"Semi-major axis (a): {a:.2e} m\")\n",
    "print(f\"Orbital period (T): {T:.2e} s\")"
   ]
  },
  {
   "cell_type": "code",
   "execution_count": 32,
   "metadata": {
    "vscode": {
     "languageId": "python"
    }
   },
   "outputs": [
    {
     "ename": "SyntaxError",
     "evalue": "invalid decimal literal (3506631997.py, line 2)",
     "output_type": "error",
     "traceback": [
      "\u001b[0;36m  Cell \u001b[0;32mIn[32], line 2\u001b[0;36m\u001b[0m\n\u001b[0;31m    print(a:2e)\u001b[0m\n\u001b[0m            ^\u001b[0m\n\u001b[0;31mSyntaxError\u001b[0m\u001b[0;31m:\u001b[0m invalid decimal literal\n"
     ]
    }
   ],
   "source": [
    "a=2/1000\n",
    "print(a.2f)"
   ]
  },
  {
   "cell_type": "code",
   "execution_count": 41,
   "metadata": {
    "vscode": {
     "languageId": "python"
    }
   },
   "outputs": [],
   "source": [
    "def orbitalP(a, M_sol):\n",
    "    M= M_sol * 1.989e30\n",
    "    factor1= a/(G*M)\n",
    "    factor2 =(1-(3*G*M/(a*c**2))) \n",
    "    factor3 = np.sqrt(factor1*factor2)\n",
    "    return 2*np.pi*factor3"
   ]
  },
  {
   "cell_type": "code",
   "execution_count": null,
   "metadata": {
    "vscode": {
     "languageId": "python"
    }
   },
   "outputs": [],
   "source": [
    "orbitalP(r_si, 4.15)"
   ]
  }
 ],
 "metadata": {
  "kernelspec": {
   "display_name": "SageMath 10.3",
   "language": "sage",
   "name": "sagemath-dev"
  },
  "language_info": {
   "codemirror_mode": {
    "name": "ipython",
    "version": 3
   },
   "file_extension": ".py",
   "mimetype": "text/x-python",
   "name": "sage",
   "nbconvert_exporter": "python",
   "pygments_lexer": "ipython3",
   "version": "3.10.12"
  }
 },
 "nbformat": 4,
 "nbformat_minor": 4
}
