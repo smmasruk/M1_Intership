{
 "cells": [
  {
   "cell_type": "code",
   "execution_count": 1,
   "metadata": {},
   "outputs": [
    {
     "name": "stderr",
     "output_type": "stream",
     "text": [
      "/home/masrukuddin/anaconda3/envs/few_env/lib/python3.12/site-packages/cupy/_environment.py:369: UserWarning: CuPy failed to preload library (/home/masrukuddin/.cupy/cuda_lib/11.x/cutensor/2.0.1/lib/libcutensor.so.2.0.1): OSError (libcublasLt.so.11: cannot open shared object file: No such file or directory)\n",
      "  warnings.warn(msg)\n"
     ]
    }
   ],
   "source": [
    "import sys\n",
    "import os\n",
    "\n",
    "import matplotlib.pyplot as plt\n",
    "%matplotlib inline\n",
    "import numpy as np\n",
    "\n",
    "from few.trajectory.inspiral import EMRIInspiral\n",
    "from few.amplitude.romannet import RomanAmplitude\n",
    "from few.amplitude.interp2dcubicspline import Interp2DAmplitude\n",
    "from few.waveform import FastSchwarzschildEccentricFlux, SlowSchwarzschildEccentricFlux, GenerateEMRIWaveform\n",
    "from few.utils.utility import (get_overlap, \n",
    "                               get_mismatch, \n",
    "                               get_fundamental_frequencies, \n",
    "                               get_separatrix, \n",
    "                               get_mu_at_t, \n",
    "                               get_p_at_t, \n",
    "                               get_kerr_geo_constants_of_motion,\n",
    "                               xI_to_Y,\n",
    "                               Y_to_xI)\n",
    "\n",
    "from few.utils.ylm import GetYlms\n",
    "from few.utils.modeselector import ModeSelector\n",
    "from few.summation.interpolatedmodesum import CubicSplineInterpolant\n",
    "from few.waveform import SchwarzschildEccentricWaveformBase\n",
    "from few.summation.interpolatedmodesum import InterpolatedModeSum\n",
    "from few.summation.directmodesum import DirectModeSum\n",
    "from few.utils.constants import *\n",
    "from few.summation.aakwave import AAKSummation\n",
    "from few.waveform import Pn5AAKWaveform, AAKWaveformBase"
   ]
  },
  {
   "cell_type": "code",
   "execution_count": 2,
   "metadata": {},
   "outputs": [],
   "source": [
    "use_gpu = False\n",
    "\n",
    "# keyword arguments for inspiral generator (RunSchwarzEccFluxInspiral)\n",
    "inspiral_kwargs={\n",
    "        \"DENSE_STEPPING\": 0,  # we want a sparsely sampled trajectory\n",
    "        \"max_init_len\": int(1e3),  # all of the trajectories will be well under len = 1000\n",
    "    }\n",
    "\n",
    "# keyword arguments for inspiral generator (RomanAmplitude)\n",
    "amplitude_kwargs = {\n",
    "    \"max_init_len\": int(1e3),  # all of the trajectories will be well under len = 1000\n",
    "    \"use_gpu\": use_gpu  # GPU is available in this class\n",
    "}\n",
    "\n",
    "# keyword arguments for Ylm generator (GetYlms)\n",
    "Ylm_kwargs = {\n",
    "    \"assume_positive_m\": False  # if we assume positive m, it will generate negative m for all m>0\n",
    "}\n",
    "\n",
    "# keyword arguments for summation generator (InterpolatedModeSum)\n",
    "sum_kwargs = {\n",
    "    \"use_gpu\": use_gpu,  # GPU is availabel for this type of summation\n",
    "    \"pad_output\": False,\n",
    "}\n",
    "\n",
    "from few.waveform import FastSchwarzschildEccentricFlux, SlowSchwarzschildEccentricFlux, GenerateEMRIWaveform\n",
    "\n",
    "few = FastSchwarzschildEccentricFlux(\n",
    "    inspiral_kwargs=inspiral_kwargs,\n",
    "    amplitude_kwargs=amplitude_kwargs,\n",
    "    Ylm_kwargs=Ylm_kwargs,\n",
    "    sum_kwargs=sum_kwargs,\n",
    "    use_gpu=use_gpu,\n",
    ")"
   ]
  },
  {
   "cell_type": "code",
   "execution_count": 3,
   "metadata": {},
   "outputs": [],
   "source": [
    "import numpy as np\n",
    "import matplotlib.pyplot as plt\n",
    "\n"
   ]
  },
  {
   "cell_type": "code",
   "execution_count": 4,
   "metadata": {},
   "outputs": [],
   "source": [
    "import cupy as cp "
   ]
  },
  {
   "cell_type": "code",
   "execution_count": 6,
   "metadata": {},
   "outputs": [
    {
     "ename": "RuntimeError",
     "evalue": "CuPy failed to load libnvrtc.so.11.2: OSError: libnvrtc.so.11.2: cannot open shared object file: No such file or directory",
     "output_type": "error",
     "traceback": [
      "\u001b[0;31m---------------------------------------------------------------------------\u001b[0m",
      "\u001b[0;31mOSError\u001b[0m                                   Traceback (most recent call last)",
      "File \u001b[0;32mcupy_backends/cuda/_softlink.pyx:25\u001b[0m, in \u001b[0;36mcupy_backends.cuda._softlink.SoftLink.__init__\u001b[0;34m()\u001b[0m\n",
      "File \u001b[0;32m~/anaconda3/envs/few_env/lib/python3.12/ctypes/__init__.py:379\u001b[0m, in \u001b[0;36mCDLL.__init__\u001b[0;34m(self, name, mode, handle, use_errno, use_last_error, winmode)\u001b[0m\n\u001b[1;32m    378\u001b[0m \u001b[38;5;28;01mif\u001b[39;00m handle \u001b[38;5;129;01mis\u001b[39;00m \u001b[38;5;28;01mNone\u001b[39;00m:\n\u001b[0;32m--> 379\u001b[0m     \u001b[38;5;28mself\u001b[39m\u001b[38;5;241m.\u001b[39m_handle \u001b[38;5;241m=\u001b[39m \u001b[43m_dlopen\u001b[49m\u001b[43m(\u001b[49m\u001b[38;5;28;43mself\u001b[39;49m\u001b[38;5;241;43m.\u001b[39;49m\u001b[43m_name\u001b[49m\u001b[43m,\u001b[49m\u001b[43m \u001b[49m\u001b[43mmode\u001b[49m\u001b[43m)\u001b[49m\n\u001b[1;32m    380\u001b[0m \u001b[38;5;28;01melse\u001b[39;00m:\n",
      "\u001b[0;31mOSError\u001b[0m: libnvrtc.so.11.2: cannot open shared object file: No such file or directory",
      "\nThe above exception was the direct cause of the following exception:\n",
      "\u001b[0;31mRuntimeError\u001b[0m                              Traceback (most recent call last)",
      "Cell \u001b[0;32mIn[6], line 12\u001b[0m\n\u001b[1;32m     10\u001b[0m phi \u001b[38;5;241m=\u001b[39m \u001b[38;5;241m0\u001b[39m  \u001b[38;5;66;03m# azimuthal viewing angle\u001b[39;00m\n\u001b[1;32m     11\u001b[0m dt \u001b[38;5;241m=\u001b[39m \u001b[38;5;241m15\u001b[39m\n\u001b[0;32m---> 12\u001b[0m r \u001b[38;5;241m=\u001b[39m \u001b[43mcp\u001b[49m\u001b[38;5;241;43m.\u001b[39;49m\u001b[43mlinspace\u001b[49m\u001b[43m(\u001b[49m\u001b[38;5;241;43m10\u001b[39;49m\u001b[43m,\u001b[49m\u001b[43m \u001b[49m\u001b[38;5;241;43m16\u001b[39;49m\u001b[43m,\u001b[49m\u001b[43m \u001b[49m\u001b[38;5;241;43m201\u001b[39;49m\u001b[43m)\u001b[49m\n\u001b[1;32m     14\u001b[0m \u001b[38;5;66;03m# Create a list to store the SNR profile\u001b[39;00m\n\u001b[1;32m     15\u001b[0m snrProfile \u001b[38;5;241m=\u001b[39m []\n",
      "File \u001b[0;32m~/anaconda3/envs/few_env/lib/python3.12/site-packages/cupy/_creation/ranges.py:161\u001b[0m, in \u001b[0;36mlinspace\u001b[0;34m(start, stop, num, endpoint, retstep, dtype, axis)\u001b[0m\n\u001b[1;32m    159\u001b[0m scalar_stop \u001b[38;5;241m=\u001b[39m cupy\u001b[38;5;241m.\u001b[39misscalar(stop)\n\u001b[1;32m    160\u001b[0m \u001b[38;5;28;01mif\u001b[39;00m scalar_start \u001b[38;5;129;01mand\u001b[39;00m scalar_stop:\n\u001b[0;32m--> 161\u001b[0m     \u001b[38;5;28;01mreturn\u001b[39;00m \u001b[43m_linspace_scalar\u001b[49m\u001b[43m(\u001b[49m\u001b[43mstart\u001b[49m\u001b[43m,\u001b[49m\u001b[43m \u001b[49m\u001b[43mstop\u001b[49m\u001b[43m,\u001b[49m\u001b[43m \u001b[49m\u001b[43mnum\u001b[49m\u001b[43m,\u001b[49m\u001b[43m \u001b[49m\u001b[43mendpoint\u001b[49m\u001b[43m,\u001b[49m\u001b[43m \u001b[49m\u001b[43mretstep\u001b[49m\u001b[43m,\u001b[49m\u001b[43m \u001b[49m\u001b[43mdtype\u001b[49m\u001b[43m)\u001b[49m\n\u001b[1;32m    163\u001b[0m \u001b[38;5;28;01mif\u001b[39;00m \u001b[38;5;129;01mnot\u001b[39;00m scalar_start:\n\u001b[1;32m    164\u001b[0m     \u001b[38;5;28;01mif\u001b[39;00m \u001b[38;5;129;01mnot\u001b[39;00m (\u001b[38;5;28misinstance\u001b[39m(start, cupy\u001b[38;5;241m.\u001b[39mndarray) \u001b[38;5;129;01mand\u001b[39;00m start\u001b[38;5;241m.\u001b[39mdtype\u001b[38;5;241m.\u001b[39mkind \u001b[38;5;241m==\u001b[39m \u001b[38;5;124m'\u001b[39m\u001b[38;5;124mf\u001b[39m\u001b[38;5;124m'\u001b[39m):\n",
      "File \u001b[0;32m~/anaconda3/envs/few_env/lib/python3.12/site-packages/cupy/_creation/ranges.py:105\u001b[0m, in \u001b[0;36m_linspace_scalar\u001b[0;34m(start, stop, num, endpoint, retstep, dtype)\u001b[0m\n\u001b[1;32m    103\u001b[0m     _linspace_ufunc_underflow(start, stop \u001b[38;5;241m-\u001b[39m start, div, ret)\n\u001b[1;32m    104\u001b[0m \u001b[38;5;28;01melse\u001b[39;00m:\n\u001b[0;32m--> 105\u001b[0m     \u001b[43m_linspace_ufunc\u001b[49m\u001b[43m(\u001b[49m\u001b[43mstart\u001b[49m\u001b[43m,\u001b[49m\u001b[43m \u001b[49m\u001b[43mstep\u001b[49m\u001b[43m,\u001b[49m\u001b[43m \u001b[49m\u001b[43mret\u001b[49m\u001b[43m)\u001b[49m\n\u001b[1;32m    107\u001b[0m \u001b[38;5;28;01mif\u001b[39;00m endpoint:\n\u001b[1;32m    108\u001b[0m     \u001b[38;5;66;03m# Here num == div + 1 > 1 is ensured.\u001b[39;00m\n\u001b[1;32m    109\u001b[0m     ret[\u001b[38;5;241m-\u001b[39m\u001b[38;5;241m1\u001b[39m] \u001b[38;5;241m=\u001b[39m stop\n",
      "File \u001b[0;32mcupy/_core/_kernel.pyx:1375\u001b[0m, in \u001b[0;36mcupy._core._kernel.ufunc.__call__\u001b[0;34m()\u001b[0m\n",
      "File \u001b[0;32mcupy/_core/_kernel.pyx:1402\u001b[0m, in \u001b[0;36mcupy._core._kernel.ufunc._get_ufunc_kernel\u001b[0;34m()\u001b[0m\n",
      "File \u001b[0;32mcupy/_core/_kernel.pyx:1082\u001b[0m, in \u001b[0;36mcupy._core._kernel._get_ufunc_kernel\u001b[0;34m()\u001b[0m\n",
      "File \u001b[0;32mcupy/_core/_kernel.pyx:94\u001b[0m, in \u001b[0;36mcupy._core._kernel._get_simple_elementwise_kernel\u001b[0;34m()\u001b[0m\n",
      "File \u001b[0;32mcupy/_core/_kernel.pyx:82\u001b[0m, in \u001b[0;36mcupy._core._kernel._get_simple_elementwise_kernel_from_code\u001b[0;34m()\u001b[0m\n",
      "File \u001b[0;32mcupy/_core/core.pyx:2254\u001b[0m, in \u001b[0;36mcupy._core.core.compile_with_cache\u001b[0;34m()\u001b[0m\n",
      "File \u001b[0;32m~/anaconda3/envs/few_env/lib/python3.12/site-packages/cupy/cuda/compiler.py:484\u001b[0m, in \u001b[0;36m_compile_module_with_cache\u001b[0;34m(source, options, arch, cache_dir, extra_source, backend, enable_cooperative_groups, name_expressions, log_stream, jitify)\u001b[0m\n\u001b[1;32m    480\u001b[0m     \u001b[38;5;28;01mreturn\u001b[39;00m _compile_with_cache_hip(\n\u001b[1;32m    481\u001b[0m         source, options, arch, cache_dir, extra_source, backend,\n\u001b[1;32m    482\u001b[0m         name_expressions, log_stream, cache_in_memory)\n\u001b[1;32m    483\u001b[0m \u001b[38;5;28;01melse\u001b[39;00m:\n\u001b[0;32m--> 484\u001b[0m     \u001b[38;5;28;01mreturn\u001b[39;00m \u001b[43m_compile_with_cache_cuda\u001b[49m\u001b[43m(\u001b[49m\n\u001b[1;32m    485\u001b[0m \u001b[43m        \u001b[49m\u001b[43msource\u001b[49m\u001b[43m,\u001b[49m\u001b[43m \u001b[49m\u001b[43moptions\u001b[49m\u001b[43m,\u001b[49m\u001b[43m \u001b[49m\u001b[43march\u001b[49m\u001b[43m,\u001b[49m\u001b[43m \u001b[49m\u001b[43mcache_dir\u001b[49m\u001b[43m,\u001b[49m\u001b[43m \u001b[49m\u001b[43mextra_source\u001b[49m\u001b[43m,\u001b[49m\u001b[43m \u001b[49m\u001b[43mbackend\u001b[49m\u001b[43m,\u001b[49m\n\u001b[1;32m    486\u001b[0m \u001b[43m        \u001b[49m\u001b[43menable_cooperative_groups\u001b[49m\u001b[43m,\u001b[49m\u001b[43m \u001b[49m\u001b[43mname_expressions\u001b[49m\u001b[43m,\u001b[49m\u001b[43m \u001b[49m\u001b[43mlog_stream\u001b[49m\u001b[43m,\u001b[49m\n\u001b[1;32m    487\u001b[0m \u001b[43m        \u001b[49m\u001b[43mcache_in_memory\u001b[49m\u001b[43m,\u001b[49m\u001b[43m \u001b[49m\u001b[43mjitify\u001b[49m\u001b[43m)\u001b[49m\n",
      "File \u001b[0;32m~/anaconda3/envs/few_env/lib/python3.12/site-packages/cupy/cuda/compiler.py:499\u001b[0m, in \u001b[0;36m_compile_with_cache_cuda\u001b[0;34m(source, options, arch, cache_dir, extra_source, backend, enable_cooperative_groups, name_expressions, log_stream, cache_in_memory, jitify)\u001b[0m\n\u001b[1;32m    497\u001b[0m     cache_dir \u001b[38;5;241m=\u001b[39m get_cache_dir()\n\u001b[1;32m    498\u001b[0m \u001b[38;5;28;01mif\u001b[39;00m arch \u001b[38;5;129;01mis\u001b[39;00m \u001b[38;5;28;01mNone\u001b[39;00m:\n\u001b[0;32m--> 499\u001b[0m     arch \u001b[38;5;241m=\u001b[39m \u001b[43m_get_arch\u001b[49m\u001b[43m(\u001b[49m\u001b[43m)\u001b[49m\n\u001b[1;32m    501\u001b[0m options \u001b[38;5;241m+\u001b[39m\u001b[38;5;241m=\u001b[39m (\u001b[38;5;124m'\u001b[39m\u001b[38;5;124m-ftz=true\u001b[39m\u001b[38;5;124m'\u001b[39m,)\n\u001b[1;32m    503\u001b[0m \u001b[38;5;28;01mif\u001b[39;00m enable_cooperative_groups:\n\u001b[1;32m    504\u001b[0m     \u001b[38;5;66;03m# `cooperative_groups` requires relocatable device code.\u001b[39;00m\n",
      "File \u001b[0;32mcupy/_util.pyx:64\u001b[0m, in \u001b[0;36mcupy._util.memoize.decorator.ret\u001b[0;34m()\u001b[0m\n",
      "File \u001b[0;32m~/anaconda3/envs/few_env/lib/python3.12/site-packages/cupy/cuda/compiler.py:148\u001b[0m, in \u001b[0;36m_get_arch\u001b[0;34m()\u001b[0m\n\u001b[1;32m    144\u001b[0m \u001b[38;5;129m@_util\u001b[39m\u001b[38;5;241m.\u001b[39mmemoize(for_each_device\u001b[38;5;241m=\u001b[39m\u001b[38;5;28;01mTrue\u001b[39;00m)\n\u001b[1;32m    145\u001b[0m \u001b[38;5;28;01mdef\u001b[39;00m \u001b[38;5;21m_get_arch\u001b[39m():\n\u001b[1;32m    146\u001b[0m     \u001b[38;5;66;03m# See Supported Compile Options section of NVRTC User Guide for\u001b[39;00m\n\u001b[1;32m    147\u001b[0m     \u001b[38;5;66;03m# the maximum value allowed for `--gpu-architecture`.\u001b[39;00m\n\u001b[0;32m--> 148\u001b[0m     nvrtc_max_compute_capability \u001b[38;5;241m=\u001b[39m \u001b[43m_get_max_compute_capability\u001b[49m\u001b[43m(\u001b[49m\u001b[43m)\u001b[49m\n\u001b[1;32m    150\u001b[0m     arch \u001b[38;5;241m=\u001b[39m device\u001b[38;5;241m.\u001b[39mDevice()\u001b[38;5;241m.\u001b[39mcompute_capability\n\u001b[1;32m    151\u001b[0m     \u001b[38;5;28;01mif\u001b[39;00m arch \u001b[38;5;129;01min\u001b[39;00m _tegra_archs:\n",
      "File \u001b[0;32mcupy/_util.pyx:64\u001b[0m, in \u001b[0;36mcupy._util.memoize.decorator.ret\u001b[0;34m()\u001b[0m\n",
      "File \u001b[0;32m~/anaconda3/envs/few_env/lib/python3.12/site-packages/cupy/cuda/compiler.py:126\u001b[0m, in \u001b[0;36m_get_max_compute_capability\u001b[0;34m()\u001b[0m\n\u001b[1;32m    124\u001b[0m \u001b[38;5;129m@_util\u001b[39m\u001b[38;5;241m.\u001b[39mmemoize()\n\u001b[1;32m    125\u001b[0m \u001b[38;5;28;01mdef\u001b[39;00m \u001b[38;5;21m_get_max_compute_capability\u001b[39m():\n\u001b[0;32m--> 126\u001b[0m     major, minor \u001b[38;5;241m=\u001b[39m \u001b[43m_get_nvrtc_version\u001b[49m\u001b[43m(\u001b[49m\u001b[43m)\u001b[49m\n\u001b[1;32m    127\u001b[0m     \u001b[38;5;28;01mif\u001b[39;00m major \u001b[38;5;241m<\u001b[39m \u001b[38;5;241m11\u001b[39m:\n\u001b[1;32m    128\u001b[0m         \u001b[38;5;66;03m# CUDA 10.2\u001b[39;00m\n\u001b[1;32m    129\u001b[0m         nvrtc_max_compute_capability \u001b[38;5;241m=\u001b[39m \u001b[38;5;124m'\u001b[39m\u001b[38;5;124m75\u001b[39m\u001b[38;5;124m'\u001b[39m\n",
      "File \u001b[0;32m~/anaconda3/envs/few_env/lib/python3.12/site-packages/cupy/cuda/compiler.py:115\u001b[0m, in \u001b[0;36m_get_nvrtc_version\u001b[0;34m()\u001b[0m\n\u001b[1;32m    113\u001b[0m \u001b[38;5;28;01mglobal\u001b[39;00m _nvrtc_version\n\u001b[1;32m    114\u001b[0m \u001b[38;5;28;01mif\u001b[39;00m _nvrtc_version \u001b[38;5;129;01mis\u001b[39;00m \u001b[38;5;28;01mNone\u001b[39;00m:\n\u001b[0;32m--> 115\u001b[0m     _nvrtc_version \u001b[38;5;241m=\u001b[39m \u001b[43mnvrtc\u001b[49m\u001b[38;5;241;43m.\u001b[39;49m\u001b[43mgetVersion\u001b[49m\u001b[43m(\u001b[49m\u001b[43m)\u001b[49m\n\u001b[1;32m    117\u001b[0m \u001b[38;5;28;01mreturn\u001b[39;00m _nvrtc_version\n",
      "File \u001b[0;32mcupy_backends/cuda/libs/nvrtc.pyx:56\u001b[0m, in \u001b[0;36mcupy_backends.cuda.libs.nvrtc.getVersion\u001b[0;34m()\u001b[0m\n",
      "File \u001b[0;32mcupy_backends/cuda/libs/nvrtc.pyx:57\u001b[0m, in \u001b[0;36mcupy_backends.cuda.libs.nvrtc.getVersion\u001b[0;34m()\u001b[0m\n",
      "File \u001b[0;32mcupy_backends/cuda/libs/_cnvrtc.pxi:72\u001b[0m, in \u001b[0;36mcupy_backends.cuda.libs.nvrtc.initialize\u001b[0;34m()\u001b[0m\n",
      "File \u001b[0;32mcupy_backends/cuda/libs/_cnvrtc.pxi:76\u001b[0m, in \u001b[0;36mcupy_backends.cuda.libs.nvrtc._initialize\u001b[0;34m()\u001b[0m\n",
      "File \u001b[0;32mcupy_backends/cuda/libs/_cnvrtc.pxi:143\u001b[0m, in \u001b[0;36mcupy_backends.cuda.libs.nvrtc._get_softlink\u001b[0;34m()\u001b[0m\n",
      "File \u001b[0;32mcupy_backends/cuda/_softlink.pyx:32\u001b[0m, in \u001b[0;36mcupy_backends.cuda._softlink.SoftLink.__init__\u001b[0;34m()\u001b[0m\n",
      "\u001b[0;31mRuntimeError\u001b[0m: CuPy failed to load libnvrtc.so.11.2: OSError: libnvrtc.so.11.2: cannot open shared object file: No such file or directory"
     ]
    }
   ],
   "source": [
    "import numpy as np\n",
    "import matplotlib.pyplot as plt\n",
    "import cupy as cp\n",
    "# Define parameters\n",
    "M = 4e6\n",
    "mu = 5e-2\n",
    "dist1 = 0.0000078705\n",
    "e0 = 0.0\n",
    "theta = np.pi / 2  # polar viewing angle\n",
    "phi = 0  # azimuthal viewing angle\n",
    "dt = 15\n",
    "r = cp.linspace(10, 16, 201)\n",
    "\n",
    "# Create a list to store the SNR profile\n",
    "snrProfile = []\n",
    "\n",
    "# Define the function to simulate the gravitational wave and calculate SNR\n",
    "def calculate_snr(p0, L):\n",
    "    wave = few(M, mu, p0, e0, theta, phi, dist=dist1, dt=dt, T=L)\n",
    "    fft_real = cp.fft.fft(wave.real)\n",
    "    fft_imag = cp.fft.fft(wave.imag)\n",
    "    power_spectrum_real = cp.abs(fft_real) ** 2\n",
    "    power_spectrum_imag = cp.abs(fft_imag) ** 2\n",
    "    power_spectrum = power_spectrum_real + power_spectrum_imag\n",
    "    sum_power = cp.sqrt(cp.sum(power_spectrum))\n",
    "    return sum_power\n",
    "\n",
    "# Iterate over different values of T\n",
    "for L in [1 / 365, 0.1, 0.5, 1]:\n",
    "    snrProfile = []\n",
    "    for p0 in r:\n",
    "        snrProfile.append(calculate_snr(p0, L))\n",
    "    plt.figure()\n",
    "    plt.plot(cp.asnumpy(r), cp.asnumpy(snrProfile), '.')\n",
    "    plt.xlabel('r')\n",
    "    plt.title(f'SNR Profile for T = {L} years')\n",
    "    plt.show()\n"
   ]
  }
 ],
 "metadata": {
  "kernelspec": {
   "display_name": "few_env",
   "language": "python",
   "name": "python3"
  },
  "language_info": {
   "codemirror_mode": {
    "name": "ipython",
    "version": 3
   },
   "file_extension": ".py",
   "mimetype": "text/x-python",
   "name": "python",
   "nbconvert_exporter": "python",
   "pygments_lexer": "ipython3",
   "version": "3.12.1"
  }
 },
 "nbformat": 4,
 "nbformat_minor": 2
}
