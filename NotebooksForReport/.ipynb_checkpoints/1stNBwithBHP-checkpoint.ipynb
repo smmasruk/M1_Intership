{
 "cells": [
  {
   "cell_type": "code",
   "execution_count": 1,
   "metadata": {},
   "outputs": [
    {
     "name": "stderr",
     "output_type": "stream",
     "text": [
      "/home/masrukuddin/anaconda3/envs/few_env/lib/python3.12/site-packages/cupy/_environment.py:487: UserWarning: \n",
      "--------------------------------------------------------------------------------\n",
      "\n",
      "  CuPy may not function correctly because multiple CuPy packages are installed\n",
      "  in your environment:\n",
      "\n",
      "    cupy, cupy-cuda11x\n",
      "\n",
      "  Follow these steps to resolve this issue:\n",
      "\n",
      "    1. For all packages listed above, run the following command to remove all\n",
      "       existing CuPy installations:\n",
      "\n",
      "         $ pip uninstall <package_name>\n",
      "\n",
      "      If you previously installed CuPy via conda, also run the following:\n",
      "\n",
      "         $ conda uninstall cupy\n",
      "\n",
      "    2. Install the appropriate CuPy package.\n",
      "       Refer to the Installation Guide for detailed instructions.\n",
      "\n",
      "         https://docs.cupy.dev/en/stable/install.html\n",
      "\n",
      "--------------------------------------------------------------------------------\n",
      "\n",
      "  warnings.warn(f'''\n"
     ]
    }
   ],
   "source": [
    "import sys\n",
    "import os\n",
    "\n",
    "import matplotlib.pyplot as plt\n",
    "%matplotlib inline\n",
    "import numpy as np\n",
    "\n",
    "# import joblib\n",
    "# sys.modules['sklearn.externals.joblib'] = joblib\n",
    "# from sklearn.preprocessing import Imputer\n",
    "# sys.modules['sklearn.preprocessing.Imputer'] = Imputer\n",
    "from few.trajectory.inspiral import EMRIInspiral\n",
    "from few.amplitude.romannet import RomanAmplitude\n",
    "from few.amplitude.interp2dcubicspline import Interp2DAmplitude\n",
    "from few.waveform import FastSchwarzschildEccentricFlux, SlowSchwarzschildEccentricFlux, GenerateEMRIWaveform\n",
    "from few.utils.utility import (get_overlap, \n",
    "                               get_mismatch, \n",
    "                               get_fundamental_frequencies, \n",
    "                               get_separatrix, \n",
    "                               get_mu_at_t, \n",
    "                               get_p_at_t, \n",
    "                               get_kerr_geo_constants_of_motion,\n",
    "                               xI_to_Y,\n",
    "                               Y_to_xI)\n",
    "\n",
    "from few.utils.ylm import GetYlms\n",
    "from few.utils.modeselector import ModeSelector\n",
    "from few.summation.interpolatedmodesum import CubicSplineInterpolant\n",
    "from few.waveform import SchwarzschildEccentricWaveformBase\n",
    "from few.summation.interpolatedmodesum import InterpolatedModeSum\n",
    "from few.summation.directmodesum import DirectModeSum\n",
    "from few.utils.constants import *\n",
    "from few.summation.aakwave import AAKSummation\n",
    "from few.waveform import Pn5AAKWaveform, AAKWaveformBase"
   ]
  },
  {
   "cell_type": "code",
   "execution_count": 2,
   "metadata": {},
   "outputs": [],
   "source": [
    "use_gpu = False\n",
    "\n",
    "# keyword arguments for inspiral generator (RunSchwarzEccFluxInspiral)\n",
    "inspiral_kwargs={\n",
    "        \"DENSE_STEPPING\": 0,  # we want a sparsely sampled trajectory\n",
    "        \"max_init_len\": int(1e3),  # all of the trajectories will be well under len = 1000\n",
    "    }\n",
    "\n",
    "# keyword arguments for inspiral generator (RomanAmplitude)\n",
    "amplitude_kwargs = {\n",
    "    \"max_init_len\": int(1e3),  # all of the trajectories will be well under len = 1000\n",
    "    \"use_gpu\": use_gpu  # GPU is available in this class\n",
    "}\n",
    "\n",
    "# keyword arguments for Ylm generator (GetYlms)\n",
    "Ylm_kwargs = {\n",
    "    \"assume_positive_m\": False  # if we assume positive m, it will generate negative m for all m>0\n",
    "}\n",
    "\n",
    "# keyword arguments for summation generator (InterpolatedModeSum)\n",
    "sum_kwargs = {\n",
    "    \"use_gpu\": use_gpu,  # GPU is availabel for this type of summation\n",
    "    \"pad_output\": False,\n",
    "}\n",
    "\n",
    "from few.waveform import FastSchwarzschildEccentricFlux, SlowSchwarzschildEccentricFlux, GenerateEMRIWaveform\n",
    "\n",
    "few = FastSchwarzschildEccentricFlux(\n",
    "    inspiral_kwargs=inspiral_kwargs,\n",
    "    amplitude_kwargs=amplitude_kwargs,\n",
    "    Ylm_kwargs=Ylm_kwargs,\n",
    "    sum_kwargs=sum_kwargs,\n",
    "    use_gpu=use_gpu,\n",
    ")"
   ]
  },
  {
   "cell_type": "markdown",
   "metadata": {},
   "source": [
    "In This section I will explore the Black hole perturbation tool kit. Key idea is to reproduce\n",
    "the results of [3] where Sage Math has been used instade of BHP toolkit. Since we are\n",
    "interested in the $Srg A^∗$,I will use the mass of the black hole to be $M = 4.15±0.27×106M_⊙$\n",
    "form [4]. Lets Consider an object orbiting the Black hole with mass $\\mu = 5\\times 10^{-2}$.\n"
   ]
  },
  {
   "cell_type": "code",
   "execution_count": null,
   "metadata": {},
   "outputs": [],
   "source": [
    "M = 4.15e6 # mass of the black hole in solar masses\n",
    "mu = 5e-2 # mass of the compact object in solar masses\n",
    "dist1 = 0.0000078705 # distance to the source in gigaparsecs\n",
    "e0 = 0.0 # initial eccentricity\n",
    "theta = np.pi / 2  # polar viewing angle\n",
    "phi = 0  # azimuthal viewing angle\n",
    "dt = 15 # time step in seconds\n",
    "p0 = 6.15 # initial semilatus rectum in this case our orbit is circular. thus p =r = 6.15. \n",
    "t0 = 0.0 # initial time\n",
    "T = 2000"
   ]
  }
 ],
 "metadata": {
  "kernelspec": {
   "display_name": "Python 3",
   "language": "python",
   "name": "python3"
  },
  "language_info": {
   "codemirror_mode": {
    "name": "ipython",
    "version": 3
   },
   "file_extension": ".py",
   "mimetype": "text/x-python",
   "name": "python",
   "nbconvert_exporter": "python",
   "pygments_lexer": "ipython3",
   "version": "3.12.1"
  }
 },
 "nbformat": 4,
 "nbformat_minor": 2
}
