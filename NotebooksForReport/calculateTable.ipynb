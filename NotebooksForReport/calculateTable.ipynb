{
 "cells": [
  {
   "cell_type": "code",
   "execution_count": 26,
   "metadata": {
    "vscode": {
     "languageId": "python"
    }
   },
   "outputs": [],
   "source": [
    "import numpy as np"
   ]
  },
  {
   "cell_type": "code",
   "execution_count": 27,
   "metadata": {
    "vscode": {
     "languageId": "python"
    }
   },
   "outputs": [],
   "source": [
    "def calculate_semimajor_axis(eccentricity, semilatus_rectum):\n",
    "    \"\"\"\n",
    "    Calculate the semi-major axis from eccentricity and initial semilatus rectum.\n",
    "\n",
    "    Args:\n",
    "    eccentricity (float): Eccentricity of the orbit.\n",
    "    semilatus_rectum (float): Initial semilatus rectum of the orbit.\n",
    "\n",
    "    Returns:\n",
    "    float: Semi-major axis of the orbit.\n",
    "    \"\"\"\n",
    "    return semilatus_rectum / (1 - eccentricity ** 2)\n"
   ]
  },
  {
   "cell_type": "code",
   "execution_count": 28,
   "metadata": {
    "vscode": {
     "languageId": "python"
    }
   },
   "outputs": [],
   "source": [
    "# a formula for r_si = R G M / c^2\n",
    "def r_si(R, M):\n",
    "    M_sun = 1.989e30\n",
    "    m_kg = M * M_sun\n",
    "    G = 6.67430e-11\n",
    "    c = 3.0e8\n",
    "    rinsi= R * G * m_kg / c**2\n",
    "    return rinsi"
   ]
  },
  {
   "cell_type": "code",
   "execution_count": 29,
   "metadata": {
    "vscode": {
     "languageId": "python"
    }
   },
   "outputs": [],
   "source": [
    "# Constants\n",
    "G = 6.674e-11  # Gravitational constant (m^3 kg^-1 s^-2)\n",
    "c = 299792458  # Speed of light (m/s)\n",
    "def orbitalP(a, M_in_sol):\n",
    "    M= M_in_sol * 1.989e30\n",
    "    factor1= a**3/(G*M)\n",
    "    factor2 =(1)\n",
    "    factor3 = 2*np.pi*np.sqrt(factor1*factor2)\n",
    "    \n",
    "    if 0 <= factor3 <60:\n",
    "        return factor3, \"s\"\n",
    "    elif 60 <= factor3 < 3600:\n",
    "        return factor3/60, \"min\"\n",
    "    elif 3600 <= factor3 < 86400:\n",
    "        return factor3/3600, \"h\"\n",
    "    elif 86400 <= factor3 < 31536000:\n",
    "        return factor3/86400, \"days\"\n",
    "    else:\n",
    "        return factor3/31536000, \"years\"\n",
    "    \n",
    "    "
   ]
  },
  {
   "cell_type": "code",
   "execution_count": 30,
   "metadata": {
    "vscode": {
     "languageId": "python"
    }
   },
   "outputs": [
    {
     "name": "stdout",
     "output_type": "stream",
     "text": [
      "136070.622675000\n",
      "3.90069118335000e10\n",
      "5.44282490700000e13\n"
     ]
    }
   ],
   "source": [
    "print(r_si(6.15, 15))\n",
    "print(r_si(6.15, 4.3*1e6))\n",
    "print(r_si(6.15, 6*1e9 ))"
   ]
  },
  {
   "cell_type": "code",
   "execution_count": 34,
   "metadata": {
    "vscode": {
     "languageId": "python"
    }
   },
   "outputs": [
    {
     "name": "stdout",
     "output_type": "stream",
     "text": [
      "Eccentricity: 0.0, p0: 6.0, Orbital period: 31.404370583294572 min\n",
      "Eccentricity: 0.0, p0: 7.666666666666667, Orbital period: 45.36000459990637 min\n",
      "Eccentricity: 0.0, p0: 9.333333333333334, Orbital period: 1.0154700817157936 h\n",
      "Eccentricity: 0.0, p0: 11.0, Orbital period: 1.2992747405616456 h\n",
      "Eccentricity: 0.0, p0: 12.666666666666668, Orbital period: 1.605482146545413 h\n",
      "Eccentricity: 0.0, p0: 14.333333333333334, Orbital period: 1.932559032541296 h\n",
      "Eccentricity: 0.0, p0: 16.0, Orbital period: 2.279249885106426 h\n",
      "Eccentricity: 0.11666666666666665, p0: 6.0, Orbital period: 32.056627909355406 min\n",
      "Eccentricity: 0.11666666666666665, p0: 7.666666666666667, Orbital period: 46.30211535585893 min\n",
      "Eccentricity: 0.11666666666666665, p0: 9.333333333333334, Orbital period: 1.0365610250428683 h\n",
      "Eccentricity: 0.11666666666666665, p0: 11.0, Orbital period: 1.3262602031694493 h\n",
      "Eccentricity: 0.11666666666666665, p0: 12.666666666666668, Orbital period: 1.6388274253233024 h\n",
      "Eccentricity: 0.11666666666666665, p0: 14.333333333333334, Orbital period: 1.9726975789794985 h\n",
      "Eccentricity: 0.11666666666666665, p0: 16.0, Orbital period: 2.3265890741387567 h\n",
      "Eccentricity: 0.2333333333333333, p0: 6.0, Orbital period: 34.15541115085169 min\n",
      "Eccentricity: 0.2333333333333333, p0: 7.666666666666667, Orbital period: 49.33356657491694 min\n",
      "Eccentricity: 0.2333333333333333, p0: 9.333333333333334, Orbital period: 1.1044258333533294 h\n",
      "Eccentricity: 0.2333333333333333, p0: 11.0, Orbital period: 1.4130919403111828 h\n",
      "Eccentricity: 0.2333333333333333, p0: 12.666666666666668, Orbital period: 1.7461232876859576 h\n",
      "Eccentricity: 0.2333333333333333, p0: 14.333333333333334, Orbital period: 2.101852293287243 h\n",
      "Eccentricity: 0.2333333333333333, p0: 16.0, Orbital period: 2.478913459986768 h\n",
      "Eccentricity: 0.35, p0: 6.0, Orbital period: 38.20492978471983 min\n",
      "Eccentricity: 0.35, p0: 7.666666666666667, Orbital period: 55.18263090729927 min\n",
      "Eccentricity: 0.35, p0: 9.333333333333334, Orbital period: 1.2353682767669592 h\n",
      "Eccentricity: 0.35, p0: 11.0, Orbital period: 1.5806303171260767 h\n",
      "Eccentricity: 0.35, p0: 12.666666666666668, Orbital period: 1.9531463786768872 h\n",
      "Eccentricity: 0.35, p0: 14.333333333333334, Orbital period: 2.351051168092559 h\n",
      "Eccentricity: 0.35, p0: 16.0, Orbital period: 2.772817292782897 h\n",
      "Eccentricity: 0.4666666666666666, p0: 6.0, Orbital period: 45.393625356012585 min\n",
      "Eccentricity: 0.4666666666666666, p0: 7.666666666666667, Orbital period: 1.0927645933304493 h\n",
      "Eccentricity: 0.4666666666666666, p0: 9.333333333333334, Orbital period: 1.4678169819511278 h\n",
      "Eccentricity: 0.4666666666666666, p0: 11.0, Orbital period: 1.8780440337485795 h\n",
      "Eccentricity: 0.4666666666666666, p0: 12.666666666666668, Orbital period: 2.3206532633014105 h\n",
      "Eccentricity: 0.4666666666666666, p0: 14.333333333333334, Orbital period: 2.793428400957131 h\n",
      "Eccentricity: 0.4666666666666666, p0: 16.0, Orbital period: 3.294554657697637 h\n",
      "Eccentricity: 0.5833333333333333, p0: 6.0, Orbital period: 58.60685596575268 min\n",
      "Eccentricity: 0.5833333333333333, p0: 7.666666666666667, Orbital period: 1.4108478145006564 h\n",
      "Eccentricity: 0.5833333333333333, p0: 9.333333333333334, Orbital period: 1.8950708997271413 h\n",
      "Eccentricity: 0.5833333333333333, p0: 11.0, Orbital period: 2.4247073310408207 h\n",
      "Eccentricity: 0.5833333333333333, p0: 12.666666666666668, Orbital period: 2.996151783033233 h\n",
      "Eccentricity: 0.5833333333333333, p0: 14.333333333333334, Orbital period: 3.6065428716380934 h\n",
      "Eccentricity: 0.5833333333333333, p0: 16.0, Orbital period: 4.253537556885403 h\n",
      "Eccentricity: 0.7, p0: 6.0, Orbital period: 1.4370887150072709 h\n",
      "Eccentricity: 0.7, p0: 7.666666666666667, Orbital period: 2.0757095115250914 h\n",
      "Eccentricity: 0.7, p0: 9.333333333333334, Orbital period: 2.788122610495924 h\n",
      "Eccentricity: 0.7, p0: 11.0, Orbital period: 3.567350084096336 h\n",
      "Eccentricity: 0.7, p0: 12.666666666666668, Orbital period: 4.408087598176628 h\n",
      "Eccentricity: 0.7, p0: 14.333333333333334, Orbital period: 5.306125342109834 h\n",
      "Eccentricity: 0.7, p0: 16.0, Orbital period: 6.258016118897366 h\n"
     ]
    }
   ],
   "source": [
    "import numpy as np\n",
    "\n",
    "# Constants\n",
    "G = 6.674e-11  # Gravitational constant (m^3 kg^-1 s^-2)\n",
    "solar_mass = 1.989e30  # Mass of the Sun (kg)\n",
    "\n",
    "def orbitalP(a, M_in_sol):\n",
    "    M = M_in_sol * solar_mass\n",
    "    factor1 = a**3 / (G * M)\n",
    "    period_seconds = 2 * np.pi * np.sqrt(factor1)\n",
    "    \n",
    "    if 0 <= period_seconds < 60:\n",
    "        return period_seconds, \"s\"\n",
    "    elif 60 <= period_seconds < 3600:\n",
    "        return period_seconds / 60, \"min\"\n",
    "    elif 3600 <= period_seconds < 86400:\n",
    "        return period_seconds / 3600, \"h\"\n",
    "    elif 86400 <= period_seconds < 31536000:\n",
    "        return period_seconds / 86400, \"days\"\n",
    "    else:\n",
    "        return period_seconds / 31536000, \"years\"\n",
    "\n",
    "def r_si(R, M):\n",
    "    M_sun = 1.989e30\n",
    "    m_kg = M * M_sun\n",
    "    G = 6.67430e-11\n",
    "    c = 3.0e8\n",
    "    rinsi= R * G * m_kg / c**2\n",
    "    return rinsi\n",
    "\n",
    "def calculate_semimajor_axis(e, r):\n",
    "    # Calculate the semi-major axis given eccentricity and radius\n",
    "    return r / (1 - e**2)\n",
    "\n",
    "# Black hole mass in solar masses\n",
    "M_bh = 4.15e6\n",
    "\n",
    "# List of p0 from 9 to 16 with 7 elements\n",
    "p0 = np.linspace(6, 16, 7)\n",
    "\n",
    "# List of e from 0 to 0.7 with 7 elements\n",
    "e_values = np.linspace(0, 0.7, 7)\n",
    "\n",
    "for e in e_values:\n",
    "    for p in p0:\n",
    "        r = r_si(p, M_bh)\n",
    "        a = calculate_semimajor_axis(e, r)\n",
    "        period, unit = orbitalP(a, M_bh)\n",
    "        print(f\"Eccentricity: {e}, p0: {p}, Orbital period: {period} {unit}\")\n"
   ]
  },
  {
   "cell_type": "code",
   "execution_count": 35,
   "metadata": {
    "vscode": {
     "languageId": "python"
    }
   },
   "outputs": [
    {
     "name": "stdout",
     "output_type": "stream",
     "text": [
      "\\begin{table}[ht]\n",
      "\\centering\n",
      "\\begin{tabular}{ccc}\n",
      "\\toprule\n",
      "\\textbf{Eccentricity} & \\textbf{p0} & \\textbf{Orbital Period} \\\\\n",
      "\\midrule\n",
      "0.00 & 6 & 31.40 min \\\\\n",
      "0.00 & 7 & 39.57 min \\\\\n",
      "0.00 & 8 & 48.35 min \\\\\n",
      "0.00 & 9 & 57.69 min \\\\\n",
      "0.00 & 10 & 1.13 h \\\\\n",
      "0.00 & 11 & 1.30 h \\\\\n",
      "0.00 & 12 & 1.48 h \\\\\n",
      "0.00 & 13 & 1.67 h \\\\\n",
      "0.00 & 14 & 1.87 h \\\\\n",
      "0.00 & 15 & 2.07 h \\\\\n",
      "0.00 & 16 & 2.28 h \\\\\n",
      "0.12 & 6 & 32.06 min \\\\\n",
      "0.12 & 7 & 40.40 min \\\\\n",
      "0.12 & 8 & 49.35 min \\\\\n",
      "0.12 & 9 & 58.89 min \\\\\n",
      "0.12 & 10 & 1.15 h \\\\\n",
      "0.12 & 11 & 1.33 h \\\\\n",
      "0.12 & 12 & 1.51 h \\\\\n",
      "0.12 & 13 & 1.70 h \\\\\n",
      "0.12 & 14 & 1.90 h \\\\\n",
      "0.12 & 15 & 2.11 h \\\\\n",
      "0.12 & 16 & 2.33 h \\\\\n",
      "0.23 & 6 & 34.16 min \\\\\n",
      "0.23 & 7 & 43.04 min \\\\\n",
      "0.23 & 8 & 52.59 min \\\\\n",
      "0.23 & 9 & 1.05 h \\\\\n",
      "0.23 & 10 & 1.22 h \\\\\n",
      "0.23 & 11 & 1.41 h \\\\\n",
      "0.23 & 12 & 1.61 h \\\\\n",
      "0.23 & 13 & 1.82 h \\\\\n",
      "0.23 & 14 & 2.03 h \\\\\n",
      "0.23 & 15 & 2.25 h \\\\\n",
      "0.23 & 16 & 2.48 h \\\\\n",
      "0.35 & 6 & 38.20 min \\\\\n",
      "0.35 & 7 & 48.14 min \\\\\n",
      "0.35 & 8 & 58.82 min \\\\\n",
      "0.35 & 9 & 1.17 h \\\\\n",
      "0.35 & 10 & 1.37 h \\\\\n",
      "0.35 & 11 & 1.58 h \\\\\n",
      "0.35 & 12 & 1.80 h \\\\\n",
      "0.35 & 13 & 2.03 h \\\\\n",
      "0.35 & 14 & 2.27 h \\\\\n",
      "0.35 & 15 & 2.52 h \\\\\n",
      "0.35 & 16 & 2.77 h \\\\\n",
      "0.47 & 6 & 45.39 min \\\\\n",
      "0.47 & 7 & 57.20 min \\\\\n",
      "0.47 & 8 & 1.16 h \\\\\n",
      "0.47 & 9 & 1.39 h \\\\\n",
      "0.47 & 10 & 1.63 h \\\\\n",
      "0.47 & 11 & 1.88 h \\\\\n",
      "0.47 & 12 & 2.14 h \\\\\n",
      "0.47 & 13 & 2.41 h \\\\\n",
      "0.47 & 14 & 2.70 h \\\\\n",
      "0.47 & 15 & 2.99 h \\\\\n",
      "0.47 & 16 & 3.29 h \\\\\n",
      "0.58 & 6 & 58.61 min \\\\\n",
      "0.58 & 7 & 1.23 h \\\\\n",
      "0.58 & 8 & 1.50 h \\\\\n",
      "0.58 & 9 & 1.79 h \\\\\n",
      "0.58 & 10 & 2.10 h \\\\\n",
      "0.58 & 11 & 2.42 h \\\\\n",
      "0.58 & 12 & 2.76 h \\\\\n",
      "0.58 & 13 & 3.12 h \\\\\n",
      "0.58 & 14 & 3.48 h \\\\\n",
      "0.58 & 15 & 3.86 h \\\\\n",
      "0.58 & 16 & 4.25 h \\\\\n",
      "0.70 & 6 & 1.44 h \\\\\n",
      "0.70 & 7 & 1.81 h \\\\\n",
      "0.70 & 8 & 2.21 h \\\\\n",
      "0.70 & 9 & 2.64 h \\\\\n",
      "0.70 & 10 & 3.09 h \\\\\n",
      "0.70 & 11 & 3.57 h \\\\\n",
      "0.70 & 12 & 4.06 h \\\\\n",
      "0.70 & 13 & 4.58 h \\\\\n",
      "0.70 & 14 & 5.12 h \\\\\n",
      "0.70 & 15 & 5.68 h \\\\\n",
      "0.70 & 16 & 6.26 h \\\\\n",
      "\\bottomrule\n",
      "\\end{tabular}\n",
      "\\caption{Orbital Periods for Different Eccentricities and p0 Values}\n",
      "\\label{tab:orbital_periods}\n",
      "\\end{table}\n"
     ]
    }
   ],
   "source": [
    "import numpy as np\n",
    "\n",
    "# Constants\n",
    "G = 6.674e-11  # Gravitational constant (m^3 kg^-1 s^-2)\n",
    "solar_mass = 1.989e30  # Mass of the Sun (kg)\n",
    "\n",
    "def orbitalP(a, M_in_sol):\n",
    "    M = M_in_sol * solar_mass\n",
    "    factor1 = a**3 / (G * M)\n",
    "    period_seconds = 2 * np.pi * np.sqrt(factor1)\n",
    "    \n",
    "    if 0 <= period_seconds < 60:\n",
    "        return period_seconds, \"s\"\n",
    "    elif 60 <= period_seconds < 3600:\n",
    "        return period_seconds / 60, \"min\"\n",
    "    elif 3600 <= period_seconds < 86400:\n",
    "        return period_seconds / 3600, \"h\"\n",
    "    elif 86400 <= period_seconds < 31536000:\n",
    "        return period_seconds / 86400, \"days\"\n",
    "    else:\n",
    "        return period_seconds / 31536000, \"years\"\n",
    "\n",
    "def r_si(R, M):\n",
    "    M_sun = 1.989e30\n",
    "    m_kg = M * M_sun\n",
    "    G = 6.67430e-11\n",
    "    c = 3.0e8\n",
    "    rinsi= R * G * m_kg / c**2\n",
    "    return rinsi\n",
    "\n",
    "def calculate_semimajor_axis(e, r):\n",
    "    # Calculate the semi-major axis given eccentricity and radius\n",
    "    return r / (1 - e**2)\n",
    "\n",
    "# Black hole mass in solar masses\n",
    "M_bh = 4.15e6\n",
    "\n",
    "# List of p0 from 6 to 16 in integer steps\n",
    "p0 = np.arange(6, 17)\n",
    "\n",
    "# List of e from 0 to 0.7 with 7 elements\n",
    "e_values = np.linspace(0, 0.7, 7)\n",
    "\n",
    "# Prepare LaTeX table content\n",
    "latex_table = \"\\\\begin{table}[ht]\\n\\\\centering\\n\\\\begin{tabular}{ccc}\\n\\\\toprule\\n\\\\textbf{Eccentricity} & \\\\textbf{p0} & \\\\textbf{Orbital Period} \\\\\\\\\\n\\\\midrule\\n\"\n",
    "\n",
    "for e in e_values:\n",
    "    for p in p0:\n",
    "        r = r_si(p, M_bh)\n",
    "        a = calculate_semimajor_axis(e, r)\n",
    "        period, unit = orbitalP(a, M_bh)\n",
    "        latex_table += f\"{e:.2f} & {p} & {period:.2f} {unit} \\\\\\\\\\n\"\n",
    "\n",
    "latex_table += \"\\\\bottomrule\\n\\\\end{tabular}\\n\\\\caption{Orbital Periods for Different Eccentricities and p0 Values}\\n\\\\label{tab:orbital_periods}\\n\\\\end{table}\"\n",
    "\n",
    "print(latex_table)\n"
   ]
  }
 ],
 "metadata": {
  "kernelspec": {
   "display_name": "SageMath 10.3",
   "language": "sage",
   "name": "sagemath-dev"
  },
  "language_info": {
   "codemirror_mode": {
    "name": "ipython",
    "version": 3
   },
   "file_extension": ".py",
   "mimetype": "text/x-python",
   "name": "sage",
   "nbconvert_exporter": "python",
   "pygments_lexer": "ipython3",
   "version": "3.10.12"
  }
 },
 "nbformat": 4,
 "nbformat_minor": 2
}
